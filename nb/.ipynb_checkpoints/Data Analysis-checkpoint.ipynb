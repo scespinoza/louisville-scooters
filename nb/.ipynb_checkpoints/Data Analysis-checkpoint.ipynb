{
 "cells": [
  {
   "cell_type": "code",
   "execution_count": 1,
   "metadata": {},
   "outputs": [],
   "source": [
    "import pandas as pd\n",
    "import geopandas as gpd"
   ]
  },
  {
   "cell_type": "code",
   "execution_count": 4,
   "metadata": {},
   "outputs": [
    {
     "data": {
      "text/html": [
       "<div>\n",
       "<style scoped>\n",
       "    .dataframe tbody tr th:only-of-type {\n",
       "        vertical-align: middle;\n",
       "    }\n",
       "\n",
       "    .dataframe tbody tr th {\n",
       "        vertical-align: top;\n",
       "    }\n",
       "\n",
       "    .dataframe thead th {\n",
       "        text-align: right;\n",
       "    }\n",
       "</style>\n",
       "<table border=\"1\" class=\"dataframe\">\n",
       "  <thead>\n",
       "    <tr style=\"text-align: right;\">\n",
       "      <th></th>\n",
       "      <th>TripID</th>\n",
       "      <th>StartDate</th>\n",
       "      <th>StartTime</th>\n",
       "      <th>EndDate</th>\n",
       "      <th>EndTime</th>\n",
       "      <th>TripDuration</th>\n",
       "      <th>TripDistance</th>\n",
       "      <th>StartLatitude</th>\n",
       "      <th>StartLongitude</th>\n",
       "      <th>EndLatitude</th>\n",
       "      <th>EndLongitude</th>\n",
       "      <th>DayOfWeek</th>\n",
       "      <th>HourNum</th>\n",
       "    </tr>\n",
       "  </thead>\n",
       "  <tbody>\n",
       "    <tr>\n",
       "      <th>0</th>\n",
       "      <td>0000045c-2677-3a7d-4b73-cad99a57</td>\n",
       "      <td>2019-06-26</td>\n",
       "      <td>19:30</td>\n",
       "      <td>2019-06-26</td>\n",
       "      <td>19:30</td>\n",
       "      <td>3.0</td>\n",
       "      <td>0.000</td>\n",
       "      <td>38.253</td>\n",
       "      <td>-85.756</td>\n",
       "      <td>38.253</td>\n",
       "      <td>-85.755</td>\n",
       "      <td>4</td>\n",
       "      <td>19</td>\n",
       "    </tr>\n",
       "    <tr>\n",
       "      <th>1</th>\n",
       "      <td>0000487b-92e6-50d6-7569-42ed3818</td>\n",
       "      <td>2019-09-22</td>\n",
       "      <td>14:30</td>\n",
       "      <td>2019-09-22</td>\n",
       "      <td>14:30</td>\n",
       "      <td>5.0</td>\n",
       "      <td>0.000</td>\n",
       "      <td>38.203</td>\n",
       "      <td>-85.752</td>\n",
       "      <td>38.204</td>\n",
       "      <td>-85.751</td>\n",
       "      <td>1</td>\n",
       "      <td>14</td>\n",
       "    </tr>\n",
       "    <tr>\n",
       "      <th>2</th>\n",
       "      <td>00006088-2579-e0d0-6a30-a15bb878</td>\n",
       "      <td>2019-08-21</td>\n",
       "      <td>17:30</td>\n",
       "      <td>2019-08-21</td>\n",
       "      <td>17:30</td>\n",
       "      <td>6.0</td>\n",
       "      <td>0.330</td>\n",
       "      <td>38.259</td>\n",
       "      <td>-85.733</td>\n",
       "      <td>38.265</td>\n",
       "      <td>-85.739</td>\n",
       "      <td>4</td>\n",
       "      <td>17</td>\n",
       "    </tr>\n",
       "    <tr>\n",
       "      <th>3</th>\n",
       "      <td>00008c1a-899b-8596-970f-9f6bf495</td>\n",
       "      <td>2019-07-03</td>\n",
       "      <td>11:00</td>\n",
       "      <td>2019-07-03</td>\n",
       "      <td>11:15</td>\n",
       "      <td>6.0</td>\n",
       "      <td>0.640</td>\n",
       "      <td>38.217</td>\n",
       "      <td>-85.757</td>\n",
       "      <td>38.221</td>\n",
       "      <td>-85.763</td>\n",
       "      <td>4</td>\n",
       "      <td>11</td>\n",
       "    </tr>\n",
       "    <tr>\n",
       "      <th>4</th>\n",
       "      <td>00009301-3225-2aea-a84a-165a480a</td>\n",
       "      <td>2019-11-22</td>\n",
       "      <td>10:45</td>\n",
       "      <td>2019-11-22</td>\n",
       "      <td>11:00</td>\n",
       "      <td>7.0</td>\n",
       "      <td>0.599</td>\n",
       "      <td>38.215</td>\n",
       "      <td>-85.759</td>\n",
       "      <td>38.222</td>\n",
       "      <td>-85.764</td>\n",
       "      <td>6</td>\n",
       "      <td>10</td>\n",
       "    </tr>\n",
       "  </tbody>\n",
       "</table>\n",
       "</div>"
      ],
      "text/plain": [
       "                             TripID   StartDate StartTime     EndDate EndTime  \\\n",
       "0  0000045c-2677-3a7d-4b73-cad99a57  2019-06-26     19:30  2019-06-26   19:30   \n",
       "1  0000487b-92e6-50d6-7569-42ed3818  2019-09-22     14:30  2019-09-22   14:30   \n",
       "2  00006088-2579-e0d0-6a30-a15bb878  2019-08-21     17:30  2019-08-21   17:30   \n",
       "3  00008c1a-899b-8596-970f-9f6bf495  2019-07-03     11:00  2019-07-03   11:15   \n",
       "4  00009301-3225-2aea-a84a-165a480a  2019-11-22     10:45  2019-11-22   11:00   \n",
       "\n",
       "   TripDuration  TripDistance  StartLatitude  StartLongitude  EndLatitude  \\\n",
       "0           3.0         0.000         38.253         -85.756       38.253   \n",
       "1           5.0         0.000         38.203         -85.752       38.204   \n",
       "2           6.0         0.330         38.259         -85.733       38.265   \n",
       "3           6.0         0.640         38.217         -85.757       38.221   \n",
       "4           7.0         0.599         38.215         -85.759       38.222   \n",
       "\n",
       "   EndLongitude  DayOfWeek  HourNum  \n",
       "0       -85.755          4       19  \n",
       "1       -85.751          1       14  \n",
       "2       -85.739          4       17  \n",
       "3       -85.763          4       11  \n",
       "4       -85.764          6       10  "
      ]
     },
     "execution_count": 4,
     "metadata": {},
     "output_type": "execute_result"
    }
   ],
   "source": [
    "data = pd.read_csv('../data/DocklessTripOpenData_10.csv')\n",
    "data.head()"
   ]
  },
  {
   "cell_type": "code",
   "execution_count": 5,
   "metadata": {},
   "outputs": [],
   "source": [
    "study_area = gpd.read_file('../shapes/study_area/study_area.shp').to_crs('EPSG:4326')\n",
    "study_area_polygon = study_area.loc[0, 'geometry']\n",
    "grid = gpd.read_file('../shapes/grid/grid_1km.shp').to_crs('EPSG:4326')"
   ]
  },
  {
   "cell_type": "code",
   "execution_count": null,
   "metadata": {},
   "outputs": [],
   "source": [
    "from shapely.geometry import Point\n",
    "convert_to_point = lambda p: Point(p[0], p[1])\n",
    "starting_locations = gpd.GeoSeries(data[['StartLongitude', 'StartLatitude']].apply(convert_to_point, axis=1),\n",
    "                                    crs='EPSG:4326')\n",
    "ending_locations = gpd.GeoSeries(data[['EndLongitude', 'EndLatitude']].apply(convert_to_point, axis=1),\n",
    "                                crs='EPSG:4326')"
   ]
  },
  {
   "cell_type": "code",
   "execution_count": null,
   "metadata": {},
   "outputs": [],
   "source": [
    "starting_filter = starting_locations.within(study_area_polygon)\n",
    "ending_filter = ending_locations.within(study_area_polygon)\n",
    "spatial_filter = starting_filter & ending_filter"
   ]
  },
  {
   "cell_type": "code",
   "execution_count": null,
   "metadata": {},
   "outputs": [],
   "source": [
    "date_str = data[['StartDate', 'StartTime']].apply(lambda x: str(x[0]) + ' ' + str(x[1]).replace('24:', '00:'), axis=1)\n",
    "starting_date = pd.to_datetime(date_str)\n",
    "temporal_filter = starting_date.dt.year == 2019"
   ]
  },
  {
   "cell_type": "code",
   "execution_count": null,
   "metadata": {},
   "outputs": [],
   "source": [
    "filtered_data = data[spatial_filter & temporal_filter]"
   ]
  },
  {
   "cell_type": "code",
   "execution_count": null,
   "metadata": {},
   "outputs": [],
   "source": [
    "filtered_data.shape"
   ]
  },
  {
   "cell_type": "code",
   "execution_count": null,
   "metadata": {},
   "outputs": [],
   "source": []
  }
 ],
 "metadata": {
  "kernelspec": {
   "display_name": "Python [conda env:mt]",
   "language": "python",
   "name": "conda-env-mt-py"
  },
  "language_info": {
   "codemirror_mode": {
    "name": "ipython",
    "version": 3
   },
   "file_extension": ".py",
   "mimetype": "text/x-python",
   "name": "python",
   "nbconvert_exporter": "python",
   "pygments_lexer": "ipython3",
   "version": "3.7.6"
  }
 },
 "nbformat": 4,
 "nbformat_minor": 4
}
