{
 "cells": [
  {
   "cell_type": "code",
   "execution_count": 1,
   "metadata": {},
   "outputs": [],
   "source": [
    "import pandas as pd\n",
    "import tensorflow as tf\n",
    "from tensorflow.keras import models, layers, optimizers, callbacks"
   ]
  },
  {
   "cell_type": "code",
   "execution_count": 2,
   "metadata": {},
   "outputs": [],
   "source": [
    "data = pd.read_csv('data/data_2019.csv')"
   ]
  },
  {
   "cell_type": "code",
   "execution_count": 3,
   "metadata": {},
   "outputs": [],
   "source": [
    "x_labels = ['StartLongitude', 'StartLatitude', 'DayOfWeek', 'HourNum']\n",
    "y_labels = ['EndLongitude', 'EndLatitude']\n",
    "\n",
    "X = data[x_labels]\n",
    "y = data[y_labels]"
   ]
  },
  {
   "cell_type": "code",
   "execution_count": 4,
   "metadata": {},
   "outputs": [],
   "source": [
    "class NN(models.Model):\n",
    "    def __init__(self, name='DestinationPrediction'):\n",
    "        super(NN, self).__init__(name=name)\n",
    "        self.dense1 = layers.Dense(128, activation='relu', kernel_regularizer='l2')\n",
    "        self.dense2 = layers.Dense(64, activation='relu', kernel_regularizer='l2')\n",
    "        self.dense3 = layers.Dense(16, activation='relu', kernel_regularizer='l2')\n",
    "        self.dense4 = layers.Dense(2, activation='linear', kernel_regularizer='l2')\n",
    "        \n",
    "    def call(self, x):\n",
    "        x = self.dense1(x)\n",
    "        x = self.dense2(x)\n",
    "        x = self.dense3(x)\n",
    "        return self.dense4(x)"
   ]
  },
  {
   "cell_type": "code",
   "execution_count": 5,
   "metadata": {},
   "outputs": [],
   "source": [
    "from sklearn.model_selection import train_test_split\n",
    "from sklearn.preprocessing import StandardScaler\n",
    "\n",
    "X_train, X_test, y_train, y_test = train_test_split(X, y)\n",
    "scaler = StandardScaler()\n",
    "X_train_scaled = scaler.fit_transform(X_train)\n",
    "X_test_scaled = scaler.transform(X_test)"
   ]
  },
  {
   "cell_type": "code",
   "execution_count": null,
   "metadata": {},
   "outputs": [
    {
     "name": "stdout",
     "output_type": "stream",
     "text": [
      "Train on 167368 samples, validate on 55790 samples\n",
      "Epoch 1/300\n",
      "167368/167368 [==============================] - 43s 255us/sample - loss: 4362.8331 - val_loss: 4287.0516\n",
      "Epoch 2/300\n",
      "167368/167368 [==============================] - 31s 187us/sample - loss: 4166.4757 - val_loss: 4022.2027\n",
      "Epoch 3/300\n",
      "167368/167368 [==============================] - 32s 188us/sample - loss: 3811.8544 - val_loss: 3570.8878\n",
      "Epoch 4/300\n",
      "167368/167368 [==============================] - 32s 190us/sample - loss: 3262.4851 - val_loss: 2934.4522\n",
      "Epoch 5/300\n",
      "167368/167368 [==============================] - 33s 194us/sample - loss: 2556.8037 - val_loss: 2175.7459\n",
      "Epoch 6/300\n",
      "167368/167368 [==============================] - 32s 192us/sample - loss: 1777.5356 - val_loss: 1400.2387\n",
      "Epoch 7/300\n",
      "167368/167368 [==============================] - 30s 177us/sample - loss: 1051.8963 - val_loss: 748.8080\n",
      "Epoch 8/300\n",
      "158592/167368 [===========================>..] - ETA: 1s - loss: 529.4102"
     ]
    }
   ],
   "source": [
    "test_model = NN(name='test_model')\n",
    "optimizer = optimizers.Adam(1e-5)\n",
    "test_model.compile(optimizer=optimizer, loss='mse')\n",
    "callbacks_list = [callbacks.EarlyStopping(patience=50)]\n",
    "history = test_model.fit(X_train_scaled, y_train.values,\n",
    "                         epochs=300, batch_size=128,\n",
    "                         validation_data=(X_test_scaled, y_test.values),\n",
    "                         callbacks=callbacks_list)\n",
    "\n",
    "history_df = pd.DataFrame(history.history)\n",
    "history_df[['loss', 'val_loss']].plot()"
   ]
  },
  {
   "cell_type": "code",
   "execution_count": null,
   "metadata": {},
   "outputs": [],
   "source": []
  }
 ],
 "metadata": {
  "kernelspec": {
   "display_name": "Python [conda env:mt]",
   "language": "python",
   "name": "conda-env-mt-py"
  },
  "language_info": {
   "codemirror_mode": {
    "name": "ipython",
    "version": 3
   },
   "file_extension": ".py",
   "mimetype": "text/x-python",
   "name": "python",
   "nbconvert_exporter": "python",
   "pygments_lexer": "ipython3",
   "version": "3.7.6"
  }
 },
 "nbformat": 4,
 "nbformat_minor": 4
}
