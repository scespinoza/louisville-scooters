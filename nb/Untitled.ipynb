{
 "cells": [
  {
   "cell_type": "code",
   "execution_count": null,
   "metadata": {},
   "outputs": [],
   "source": [
    "import pandas as pd\n",
    "import geopandas as gpd\n",
    "\n",
    "data = pd.read_csv('../data/DocklessTripOpenData_10.csv')\n",
    "print('Creating Timeseries...')\n",
    "date_str = data[['StartDate', 'StartTime']].apply(lambda x: str(x[0]) + ' ' + str(x[1]).replace('24:', '00:'), axis=1)\n",
    "data['date'] = pd.to_datetime(date_str)\n",
    "study_area = gpd.read_file('../shapes/utils/Dockless Vehicle Service Area/Dockless_Vehicle_Service_Area.shp').to_crs('EPSG:4326')\n",
    "study_area_polygon = study_area.loc[0, 'geometry']"
   ]
  },
  {
   "cell_type": "code",
   "execution_count": null,
   "metadata": {},
   "outputs": [],
   "source": [
    "from shapely.geometry import Point\n",
    "convert_to_point = lambda p: Point(p[0], p[1])\n",
    "def get_starting_locations(df, crs='EPSG:4326'):\n",
    "    return gpd.GeoSeries(df[['StartLongitude', 'StartLatitude']].apply(convert_to_point, axis=1),\n",
    "                                    crs=crs)\n",
    "def get_ending_locations(df, crs='EPSG:4326'):\n",
    "    return gpd.GeoSeries(df[['EndLongitude', 'EndLatitude']].apply(convert_to_point, axis=1),\n",
    "                                crs=crs)"
   ]
  },
  {
   "cell_type": "code",
   "execution_count": null,
   "metadata": {},
   "outputs": [],
   "source": [
    "data.head()"
   ]
  },
  {
   "cell_type": "code",
   "execution_count": null,
   "metadata": {},
   "outputs": [],
   "source": []
  }
 ],
 "metadata": {
  "kernelspec": {
   "display_name": "Python [conda env:mt]",
   "language": "python",
   "name": "conda-env-mt-py"
  },
  "language_info": {
   "codemirror_mode": {
    "name": "ipython",
    "version": 3
   },
   "file_extension": ".py",
   "mimetype": "text/x-python",
   "name": "python",
   "nbconvert_exporter": "python",
   "pygments_lexer": "ipython3",
   "version": "3.7.6"
  }
 },
 "nbformat": 4,
 "nbformat_minor": 4
}
