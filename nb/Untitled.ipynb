{
 "cells": [
  {
   "cell_type": "code",
   "execution_count": 1,
   "metadata": {},
   "outputs": [
    {
     "name": "stdout",
     "output_type": "stream",
     "text": [
      "Creating Timeseries...\n"
     ]
    }
   ],
   "source": [
    "import pandas as pd\n",
    "import geopandas as gpd\n",
    "\n",
    "data = pd.read_csv('../data/DocklessTripOpenData_10.csv')\n",
    "print('Creating Timeseries...')\n",
    "date_str = data[['StartDate', 'StartTime']].apply(lambda x: str(x[0]) + ' ' + str(x[1]).replace('24:', '00:'), axis=1)\n",
    "data['date'] = pd.to_datetime(date_str)\n",
    "study_area = gpd.read_file('../shapes/utils/Dockless Vehicle Service Area/Dockless_Vehicle_Service_Area.shp').to_crs('EPSG:4326')\n",
    "study_area_polygon = study_area.loc[0, 'geometry']"
   ]
  },
  {
   "cell_type": "code",
   "execution_count": 2,
   "metadata": {},
   "outputs": [],
   "source": [
    "from shapely.geometry import Point\n",
    "convert_to_point = lambda p: Point(p[0], p[1])\n",
    "def get_starting_locations(df, crs='EPSG:4326'):\n",
    "    return gpd.GeoSeries(df[['StartLongitude', 'StartLatitude']].apply(convert_to_point, axis=1),\n",
    "                                    crs=crs)\n",
    "def get_ending_locations(df, crs='EPSG:4326'):\n",
    "    return gpd.GeoSeries(df[['EndLongitude', 'EndLatitude']].apply(convert_to_point, axis=1),\n",
    "                                crs=crs)"
   ]
  },
  {
   "cell_type": "code",
   "execution_count": 111,
   "metadata": {},
   "outputs": [],
   "source": [
    "arrivals = gpd.read_file('../shapes/arrivals/arrivals.shp')"
   ]
  },
  {
   "cell_type": "code",
   "execution_count": 112,
   "metadata": {},
   "outputs": [
    {
     "data": {
      "text/plain": [
       "8     61174\n",
       "9     60782\n",
       "7     60722\n",
       "6     49924\n",
       "5     48780\n",
       "10    46423\n",
       "4     34025\n",
       "Name: date, dtype: int64"
      ]
     },
     "execution_count": 112,
     "metadata": {},
     "output_type": "execute_result"
    }
   ],
   "source": [
    "arrivals['date'] = pd.to_datetime(arrivals['date'])\n",
    "arrivals['date'].dt.month.value_counts()"
   ]
  },
  {
   "cell_type": "code",
   "execution_count": 50,
   "metadata": {},
   "outputs": [],
   "source": [
    "import numpy as np\n",
    "arrivals = arrivals[(arrivals['date'].dt.month >= 4) & (arrivals['date'].dt.month <= 10)]\n",
    "arrivals_sum = arrivals.groupby([arrivals['date'].dt.date,\n",
    "                              arrivals['date'].dt.dayofweek,\n",
    "                              arrivals['date'].dt.hour]).size()\n",
    "index_0 = arrivals_sum.index.get_level_values(0).unique()\n",
    "new_index = new_index = pd.MultiIndex.from_product([index_0, np.array(range(7)), np.array(range(24))], names=('date', 'day', 'hour'))\n",
    "arrivals_sum = arrivals_sum.reindex(new_index, fill_value=0)"
   ]
  },
  {
   "cell_type": "code",
   "execution_count": null,
   "metadata": {},
   "outputs": [],
   "source": [
    "arrivals.groupby(arrivals['date'].dt.dayofweek, arrivals[''])"
   ]
  },
  {
   "cell_type": "code",
   "execution_count": 57,
   "metadata": {},
   "outputs": [
    {
     "data": {
      "text/plain": [
       "<matplotlib.axes._subplots.AxesSubplot at 0x19b6083b608>"
      ]
     },
     "execution_count": 57,
     "metadata": {},
     "output_type": "execute_result"
    },
    {
     "data": {
      "image/png": "[encoded data removed]",
      "text/plain": [
       "<Figure size 432x288 with 2 Axes>"
      ]
     },
     "metadata": {
      "needs_background": "light"
     },
     "output_type": "display_data"
    }
   ],
   "source": [
    "import seaborn as sns\n",
    "\n",
    "ratios = arrivals_sum.to_frame('count').reset_index().groupby(['day', 'hour'])['count'].mean().unstack()\n",
    "sns.heatmap(ratios, cmap='Greens')"
   ]
  },
  {
   "cell_type": "code",
   "execution_count": 62,
   "metadata": {},
   "outputs": [
    {
     "data": {
      "text/plain": [
       "40579.06542056074"
      ]
     },
     "execution_count": 62,
     "metadata": {},
     "output_type": "execute_result"
    }
   ],
   "source": [
    "(ratios.sum(1) * 6 * 4).sum()"
   ]
  },
  {
   "cell_type": "code",
   "execution_count": 69,
   "metadata": {},
   "outputs": [],
   "source": [
    "arrivals_sum = arrivals.groupby([arrivals['date'].dt.date,\n",
    "                              arrivals['date'].dt.dayofweek,\n",
    "                              arrivals['date'].dt.hour]).size()\n",
    "arrivals_sum.index.names = ['date', 'day', 'hour']\n"
   ]
  },
  {
   "cell_type": "code",
   "execution_count": 73,
   "metadata": {},
   "outputs": [],
   "source": [
    "arrivals_count = arrivals_sum.to_frame('count').reset_index()"
   ]
  },
  {
   "cell_type": "code",
   "execution_count": 81,
   "metadata": {},
   "outputs": [],
   "source": [
    "ratios = arrivals_count.groupby(['day', 'hour'])['count'].mean().unstack()"
   ]
  },
  {
   "cell_type": "code",
   "execution_count": 110,
   "metadata": {},
   "outputs": [
    {
     "data": {
      "image/png": "[encoded data removed]",
      "text/plain": [
       "<Figure size 864x288 with 2 Axes>"
      ]
     },
     "metadata": {
      "needs_background": "light"
     },
     "output_type": "display_data"
    }
   ],
   "source": [
    "import matplotlib.pyplot as plt\n",
    "fig, ax = plt.subplots(figsize=(12, 4))\n",
    "sns.heatmap(ratios, square=False, cmap='Greens')\n",
    "ax.set_yticklabels(['Monday', 'Tuesday', 'Wednesday', 'Thursday', 'Friday', 'Saturday', 'Sunday'], rotation=0)\n",
    "ax.set_xticklabels(['{}h'.format(h) for h in range(0, 24)])\n",
    "ax.set_xlabel('Hour')\n",
    "ax.set_ylabel('Day of Weak')\n",
    "ax.set_title('Arrival Ratios $\\lambda_{t}$')\n",
    "fig.savefig('../figures/arrival-ratios.png', dpi=300);"
   ]
  },
  {
   "cell_type": "code",
   "execution_count": null,
   "metadata": {},
   "outputs": [],
   "source": []
  }
 ],
 "metadata": {
  "kernelspec": {
   "display_name": "Python [conda env:mt]",
   "language": "python",
   "name": "conda-env-mt-py"
  },
  "language_info": {
   "codemirror_mode": {
    "name": "ipython",
    "version": 3
   },
   "file_extension": ".py",
   "mimetype": "text/x-python",
   "name": "python",
   "nbconvert_exporter": "python",
   "pygments_lexer": "ipython3",
   "version": "3.7.6"
  }
 },
 "nbformat": 4,
 "nbformat_minor": 4
}
