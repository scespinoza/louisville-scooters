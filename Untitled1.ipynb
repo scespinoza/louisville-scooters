{
 "cells": [
  {
   "cell_type": "code",
   "execution_count": 1,
   "metadata": {},
   "outputs": [],
   "source": [
    "import pandas as pd"
   ]
  },
  {
   "cell_type": "code",
   "execution_count": 2,
   "metadata": {},
   "outputs": [],
   "source": [
    "data = pd.read_csv('data/DocklessTripOpenData_10.csv')"
   ]
  },
  {
   "cell_type": "code",
   "execution_count": 29,
   "metadata": {},
   "outputs": [],
   "source": [
    "date = pd.to_datetime(data['StartDate'])\n",
    "count = data.groupby([date.dt.year, date.dt.month]).size().to_frame('count')"
   ]
  },
  {
   "cell_type": "code",
   "execution_count": 22,
   "metadata": {},
   "outputs": [
    {
     "data": {
      "text/html": [
       "<div>\n",
       "<style scoped>\n",
       "    .dataframe tbody tr th:only-of-type {\n",
       "        vertical-align: middle;\n",
       "    }\n",
       "\n",
       "    .dataframe tbody tr th {\n",
       "        vertical-align: top;\n",
       "    }\n",
       "\n",
       "    .dataframe thead th {\n",
       "        text-align: right;\n",
       "    }\n",
       "</style>\n",
       "<table border=\"1\" class=\"dataframe\">\n",
       "  <thead>\n",
       "    <tr style=\"text-align: right;\">\n",
       "      <th></th>\n",
       "      <th>Year</th>\n",
       "      <th>Month</th>\n",
       "      <th>count</th>\n",
       "    </tr>\n",
       "  </thead>\n",
       "  <tbody>\n",
       "    <tr>\n",
       "      <th>0</th>\n",
       "      <td>2018</td>\n",
       "      <td>8</td>\n",
       "      <td>6833</td>\n",
       "    </tr>\n",
       "    <tr>\n",
       "      <th>1</th>\n",
       "      <td>2018</td>\n",
       "      <td>9</td>\n",
       "      <td>13157</td>\n",
       "    </tr>\n",
       "    <tr>\n",
       "      <th>2</th>\n",
       "      <td>2018</td>\n",
       "      <td>10</td>\n",
       "      <td>15346</td>\n",
       "    </tr>\n",
       "    <tr>\n",
       "      <th>3</th>\n",
       "      <td>2018</td>\n",
       "      <td>11</td>\n",
       "      <td>17182</td>\n",
       "    </tr>\n",
       "    <tr>\n",
       "      <th>4</th>\n",
       "      <td>2018</td>\n",
       "      <td>12</td>\n",
       "      <td>13069</td>\n",
       "    </tr>\n",
       "  </tbody>\n",
       "</table>\n",
       "</div>"
      ],
      "text/plain": [
       "   Year  Month  count\n",
       "0  2018      8   6833\n",
       "1  2018      9  13157\n",
       "2  2018     10  15346\n",
       "3  2018     11  17182\n",
       "4  2018     12  13069"
      ]
     },
     "execution_count": 22,
     "metadata": {},
     "output_type": "execute_result"
    }
   ],
   "source": [
    "count.index.names = ['Year',  'Month']\n",
    "count = count.reset_index()\n",
    "count.head()"
   ]
  },
  {
   "cell_type": "code",
   "execution_count": 78,
   "metadata": {},
   "outputs": [
    {
     "data": {
      "image/png": "[encoded data removed]",
      "text/plain": [
       "<Figure size 720x432 with 1 Axes>"
      ]
     },
     "metadata": {},
     "output_type": "display_data"
    }
   ],
   "source": [
    "import numpy as np\n",
    "import matplotlib.pyplot as plt\n",
    "from matplotlib import cm\n",
    "\n",
    "plt.style.use('ggplot')\n",
    "color = cm.inferno_r((count / count.max()).values.squeeze())\n",
    "\n",
    "count.index.names = ['Year',  'Month']\n",
    "count.columns = ['N° of trips']\n",
    "\n",
    "fig, ax = plt.subplots(figsize=(10, 6))\n",
    "count.plot(kind='bar', ax=ax, color=color)\n",
    "ax.set_xticklabels([\"{:02d}/{}\".format(month, year) for year, month in count.index.values], rotation=45)\n",
    "ax.set_xlabel('Month')\n",
    "ax.set_ylabel('N')\n",
    "fig.savefig('trips_evol.png', dpi=400);"
   ]
  },
  {
   "cell_type": "code",
   "execution_count": 83,
   "metadata": {},
   "outputs": [
    {
     "data": {
      "text/plain": [
       "array([[9.68041e-01, 8.28515e-01, 2.49972e-01, 1.00000e+00],\n",
       "       [9.86964e-01, 6.30485e-01, 3.09080e-02, 1.00000e+00],\n",
       "       [9.79666e-01, 5.65057e-01, 3.14090e-02, 1.00000e+00],\n",
       "       [9.69163e-01, 5.15946e-01, 6.34880e-02, 1.00000e+00],\n",
       "       [9.86964e-01, 6.30485e-01, 3.09080e-02, 1.00000e+00],\n",
       "       [9.87464e-01, 6.90366e-01, 7.99900e-02, 1.00000e+00],\n",
       "       [9.87819e-01, 6.52773e-01, 4.55810e-02, 1.00000e+00],\n",
       "       [9.44285e-01, 4.42772e-01, 1.20354e-01, 1.00000e+00],\n",
       "       [6.64540e-01, 1.81539e-01, 3.69846e-01, 1.00000e+00],\n",
       "       [2.58234e-01, 3.85710e-02, 4.06485e-01, 1.00000e+00],\n",
       "       [2.24763e-01, 3.64050e-02, 3.88129e-01, 1.00000e+00],\n",
       "       [1.46200e-03, 4.66000e-04, 1.38660e-02, 1.00000e+00],\n",
       "       [2.26700e-03, 1.27000e-03, 1.85700e-02, 1.00000e+00],\n",
       "       [6.00600e-03, 4.69200e-03, 3.85580e-02, 1.00000e+00],\n",
       "       [3.41500e-01, 6.23250e-02, 4.29425e-01, 1.00000e+00],\n",
       "       [9.82881e-01, 5.86606e-01, 2.46610e-02, 1.00000e+00],\n",
       "       [9.58720e-01, 8.66624e-01, 3.10820e-01, 1.00000e+00],\n",
       "       [9.54997e-01, 8.81569e-01, 3.37475e-01, 1.00000e+00]])"
      ]
     },
     "execution_count": 83,
     "metadata": {},
     "output_type": "execute_result"
    }
   ],
   "source": [
    "color"
   ]
  }
 ],
 "metadata": {
  "kernelspec": {
   "display_name": "Python [conda env:mt]",
   "language": "python",
   "name": "conda-env-mt-py"
  },
  "language_info": {
   "codemirror_mode": {
    "name": "ipython",
    "version": 3
   },
   "file_extension": ".py",
   "mimetype": "text/x-python",
   "name": "python",
   "nbconvert_exporter": "python",
   "pygments_lexer": "ipython3",
   "version": "3.7.6"
  }
 },
 "nbformat": 4,
 "nbformat_minor": 4
}
