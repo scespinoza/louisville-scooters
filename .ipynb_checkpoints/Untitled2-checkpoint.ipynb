{
 "cells": [
  {
   "cell_type": "code",
   "execution_count": 1,
   "metadata": {},
   "outputs": [],
   "source": [
    "import pandas as pd\n",
    "import tensorflow as tf\n",
    "from tensorflow.keras import models, layers, optimizers, callbacks"
   ]
  },
  {
   "cell_type": "code",
   "execution_count": 18,
   "metadata": {},
   "outputs": [],
   "source": [
    "data = pd.read_csv('data/data_2019.csv')"
   ]
  },
  {
   "cell_type": "code",
   "execution_count": null,
   "metadata": {},
   "outputs": [],
   "source": [
    "x_labels = ['StartLongitude', 'StartLatitude', 'DayOfWeek', 'HourNum']\n",
    "y_labels = ['EndLongitude', 'EndLatitude']\n",
    "\n",
    "X = data[x_labels]\n",
    "y = data[y_labels]"
   ]
  },
  {
   "cell_type": "code",
   "execution_count": null,
   "metadata": {},
   "outputs": [],
   "source": [
    "class NN(models.Model):\n",
    "    def __init__(self, name='DestinationPrediction'):\n",
    "        super(NN, self).__init__(name=name)\n",
    "        self.dense1 = layers.Dense(128, activation='relu', kernel_regularizer='l2')\n",
    "        self.dense2 = layers.Dense(64, activation='relu', kernel_regularizer='l2')\n",
    "        self.dense3 = layers.Dense(16, activation='relu', kernel_regularizer='l2')\n",
    "        self.dense4 = layers.Dense(2, activation='linear', kernel_regularizer='l2')\n",
    "        \n",
    "    def call(self, x):\n",
    "        x = self.dense1(x)\n",
    "        x = self.dense2(x)\n",
    "        x = self.dense3(x)\n",
    "        return self.dense4(x)"
   ]
  },
  {
   "cell_type": "code",
   "execution_count": null,
   "metadata": {},
   "outputs": [],
   "source": [
    "from sklearn.model_selection import train_test_split\n",
    "from sklearn.preprocessing import StandardScaler\n",
    "\n",
    "X_train, X_test, y_train, y_test = train_test_split(X, y)\n",
    "scaler = StandardScaler()\n",
    "X_train_scaled = scaler.fit_transform(X_train)\n",
    "X_test_scaled = scaler.transform(X_test)"
   ]
  },
  {
   "cell_type": "code",
   "execution_count": null,
   "metadata": {},
   "outputs": [],
   "source": [
    "test_model = NN(name='test_model')\n",
    "optimizer = optimizers.Adam(1e-3)\n",
    "test_model.compile(optimizer=optimizer, loss='mse')\n",
    "callbacks_list = [callbacks.EarlyStopping(patience=50)]\n",
    "history = test_model.fit(X_train_scaled, y_train.values,\n",
    "                         epochs=300, batch_size=128,\n",
    "                         validation_data=(X_test_scaled, y_test.values),\n",
    "                         callbacks=callbacks_list)\n",
    "\n",
    "history_df = pd.DataFrame(history.history)\n",
    "history_df[['loss', 'val_loss']].plot()"
   ]
  },
  {
   "cell_type": "code",
   "execution_count": null,
   "metadata": {},
   "outputs": [],
   "source": []
  }
 ],
 "metadata": {
  "kernelspec": {
   "display_name": "Python 3",
   "language": "python",
   "name": "python3"
  },
  "language_info": {
   "codemirror_mode": {
    "name": "ipython",
    "version": 3
   },
   "file_extension": ".py",
   "mimetype": "text/x-python",
   "name": "python",
   "nbconvert_exporter": "python",
   "pygments_lexer": "ipython3",
   "version": "3.7.6"
  }
 },
 "nbformat": 4,
 "nbformat_minor": 4
}
