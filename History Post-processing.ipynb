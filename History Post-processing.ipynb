{
 "cells": [
  {
   "cell_type": "code",
   "execution_count": 13,
   "metadata": {},
   "outputs": [
    {
     "name": "stdout",
     "output_type": "stream",
     "text": [
      "transfer\n",
      "speeds\n",
      "graphs\n",
      "Creating walk graph...\n",
      "True\n",
      "Creating bike graph...\n",
      "True\n"
     ]
    }
   ],
   "source": [
    "import json\n",
    "import geopandas as gpd\n",
    "from multimodal_network import *\n",
    "\n",
    "study_area_filename = 'shapes/study_area/study_area_buffer.shp'\n",
    "study_area = gpd.read_file(study_area_filename).to_crs('EPSG:4326')\n",
    "study_area_polygon = study_area.iloc[0]['geometry']\n",
    "network = MultiModalNetwork.from_polygon(study_area_polygon, speeds={'walk': 1.4, 'bike':2.16}, directed={'walk': True, 'bike': True})\n",
    "#network.save_shortest_paths_all_layers()"
   ]
  },
  {
   "cell_type": "code",
   "execution_count": 31,
   "metadata": {},
   "outputs": [
    {
     "name": "stdout",
     "output_type": "stream",
     "text": [
      "Converting: visualization/data/stkde_nhpp_0.json\n"
     ]
    },
    {
     "data": {
      "application/vnd.jupyter.widget-view+json": {
       "model_id": "7de97231abfd4d48874b286a358d4530",
       "version_major": 2,
       "version_minor": 0
      },
      "text/plain": [
       "HBox(children=(FloatProgress(value=0.0, max=5756.0), HTML(value='')))"
      ]
     },
     "metadata": {},
     "output_type": "display_data"
    },
    {
     "name": "stdout",
     "output_type": "stream",
     "text": [
      "\n",
      "Converting: visualization/data/stkde_nhpp_0_HRP_2.0.json\n"
     ]
    },
    {
     "data": {
      "application/vnd.jupyter.widget-view+json": {
       "model_id": "2c804bcfeebe46389e0e300c109055a7",
       "version_major": 2,
       "version_minor": 0
      },
      "text/plain": [
       "HBox(children=(FloatProgress(value=0.0, max=5756.0), HTML(value='')))"
      ]
     },
     "metadata": {},
     "output_type": "display_data"
    },
    {
     "name": "stdout",
     "output_type": "stream",
     "text": [
      "\n",
      "Converting: visualization/data/stkde_nhpp_0_HRP_3.0.json\n"
     ]
    },
    {
     "data": {
      "application/vnd.jupyter.widget-view+json": {
       "model_id": "b786d62340c347e7ad2961244efcdb6c",
       "version_major": 2,
       "version_minor": 0
      },
      "text/plain": [
       "HBox(children=(FloatProgress(value=0.0, max=5756.0), HTML(value='')))"
      ]
     },
     "metadata": {},
     "output_type": "display_data"
    },
    {
     "name": "stdout",
     "output_type": "stream",
     "text": [
      "\n",
      "Converting: visualization/data/stkde_nhpp_1.json\n"
     ]
    },
    {
     "data": {
      "application/vnd.jupyter.widget-view+json": {
       "model_id": "aff5760859bd47b48c6b1b2015433e86",
       "version_major": 2,
       "version_minor": 0
      },
      "text/plain": [
       "HBox(children=(FloatProgress(value=0.0, max=5742.0), HTML(value='')))"
      ]
     },
     "metadata": {},
     "output_type": "display_data"
    },
    {
     "name": "stdout",
     "output_type": "stream",
     "text": [
      "\n",
      "Converting: visualization/data/stkde_nhpp_1_HRP_2.0.json\n"
     ]
    },
    {
     "data": {
      "application/vnd.jupyter.widget-view+json": {
       "model_id": "ff16e36ed2fe4306936705d91362199d",
       "version_major": 2,
       "version_minor": 0
      },
      "text/plain": [
       "HBox(children=(FloatProgress(value=0.0, max=5742.0), HTML(value='')))"
      ]
     },
     "metadata": {},
     "output_type": "display_data"
    },
    {
     "name": "stdout",
     "output_type": "stream",
     "text": [
      "\n",
      "Converting: visualization/data/stkde_nhpp_1_HRP_3.0.json\n"
     ]
    },
    {
     "data": {
      "application/vnd.jupyter.widget-view+json": {
       "model_id": "d8f90253ddd34b18bfc7ce55d28301a1",
       "version_major": 2,
       "version_minor": 0
      },
      "text/plain": [
       "HBox(children=(FloatProgress(value=0.0, max=5742.0), HTML(value='')))"
      ]
     },
     "metadata": {},
     "output_type": "display_data"
    },
    {
     "name": "stdout",
     "output_type": "stream",
     "text": [
      "\n"
     ]
    }
   ],
   "source": [
    "from tqdm.notebook import tqdm\n",
    "def write_paths(replica_filename):\n",
    "    print('Converting: ' + replica_filename)\n",
    "    with open(replica_filename) as file:\n",
    "        replica = json.load(file)\n",
    "    for i, trip in zip(tqdm(range(len(replica['trips']))), replica['trips']):\n",
    "        #print(trip['scooter']['battery_level_dropoff'])\n",
    "        if trip['ride_duration'] == np.inf:\n",
    "            replica['trips'].remove(trip)\n",
    "        else:\n",
    "            if trip['pickup_time'] != None:\n",
    "                #print('Walk from {} to {}'.format(trip['origin'], trip['pickup_node']))\n",
    "                try:\n",
    "                    path = network.shortest_path_edges(trip['origin'], trip['pickup_node'], layer='walk')\n",
    "                    trip['walk'] = path\n",
    "                except:\n",
    "                    replica['trips'].remove(trip)\n",
    "\n",
    "                #print('Ride from {} to {}'.format(trip['pickup_node'], trip['destination']))\n",
    "                try:\n",
    "                    path = network.shortest_path_edges(trip['pickup_node'], trip['destination'], layer='bike')\n",
    "                    trip['ride'] = path\n",
    "                except:\n",
    "                    try:\n",
    "                        replica['trips'].remove(trip)\n",
    "                    except:\n",
    "                        pass\n",
    "    with open(replica_filename, 'w') as file:\n",
    "        json.dump(replica, file)\n",
    "\n",
    "for i in range(2):\n",
    "    write_paths('visualization/data/stkde_nhpp_{}.json'.format(i))\n",
    "    for m in range(2, 4):\n",
    "        write_paths('visualization/data/stkde_nhpp_{}_HRP_{}.0.json'.format(i, m))"
   ]
  },
  {
   "cell_type": "code",
   "execution_count": 101,
   "metadata": {},
   "outputs": [],
   "source": [
    "import os\n",
    "import json\n",
    "import pandas as pd\n",
    "import matplotlib.pyplot as plt\n",
    "import numpy as np\n",
    "plt.style.use('ggplot')\n",
    "\n",
    "\n",
    "def load_replicas_to_df(results_dir = 'visualization/data', replicas=20, methods=['_HRP_3.0', '', '_HRP_2.0'], days=1):\n",
    "    replicas_stats = []\n",
    "    for i in range(replicas):\n",
    "        replica_dict = {'replica': i}\n",
    "        for method in methods:\n",
    "            replica_dir = results_dir + '/stkde_nhpp_{}{}.json'.format(i, method)\n",
    "            with open(replica_dir, 'r') as file:\n",
    "                replica = json.load(file)\n",
    "\n",
    "            satisfied_requests = sum([not trip['pickup_time'] == None for trip in replica['trips'] if trip['arrival_time']<= 24 * 3600 * days])\n",
    "            total_requests = len([trip for trip in replica['trips'] if trip['arrival_time'] <= 24 * 3600 * days])\n",
    "            expenses = np.array([float(trip['pricing']) for trip in replica['trips'] if trip['pricing']!=None])\n",
    "            total_expense = expenses.sum()\n",
    "            n_pricing = len(expenses)\n",
    "            replica_dict['satisfied_requests' + method] = satisfied_requests\n",
    "            replica_dict['total_requests' + method] = total_requests\n",
    "            replica_dict['expense' + method] = total_expense\n",
    "            replica_dict['n_pricing' + method] = n_pricing\n",
    "        replicas_stats.append(replica_dict)\n",
    "    return pd.DataFrame(replicas_stats)\n",
    "\n",
    "methods = ['', '_HRP_3.0']\n",
    "replicas_df = load_replicas_to_df(replicas=2, days=7, methods=methods)\n",
    "for method in methods:\n",
    "    replicas_df['service_level' + method] = replicas_df['satisfied_requests' + method] / replicas_df['total_requests' + method] "
   ]
  },
  {
   "cell_type": "code",
   "execution_count": 102,
   "metadata": {},
   "outputs": [
    {
     "data": {
      "text/plain": [
       "service_level            0.445466\n",
       "service_level_HRP_3.0    0.464078\n",
       "dtype: float64"
      ]
     },
     "execution_count": 102,
     "metadata": {},
     "output_type": "execute_result"
    }
   ],
   "source": [
    "replicas_df[['service_level' + method for method in methods]].mean()"
   ]
  },
  {
   "cell_type": "code",
   "execution_count": 103,
   "metadata": {},
   "outputs": [
    {
     "data": {
      "text/plain": [
       "service_level            0.003415\n",
       "service_level_HRP_3.0    0.002645\n",
       "dtype: float64"
      ]
     },
     "execution_count": 103,
     "metadata": {},
     "output_type": "execute_result"
    }
   ],
   "source": [
    "replicas_df[['service_level' + method for method in methods]].std()"
   ]
  },
  {
   "cell_type": "code",
   "execution_count": 104,
   "metadata": {},
   "outputs": [],
   "source": [
    "for method in methods:\n",
    "    replicas_df['DUR' + method] = ((replicas_df['total_requests'] - replicas_df['satisfied_requests']) - (replicas_df['total_requests'] - replicas_df['satisfied_requests' + method]))\\\n",
    "                                / (replicas_df['total_requests'] - replicas_df['satisfied_requests'])"
   ]
  },
  {
   "cell_type": "code",
   "execution_count": 105,
   "metadata": {},
   "outputs": [
    {
     "data": {
      "text/plain": [
       "DUR            0.000000\n",
       "DUR_HRP_3.0    0.033561\n",
       "dtype: float64"
      ]
     },
     "execution_count": 105,
     "metadata": {},
     "output_type": "execute_result"
    }
   ],
   "source": [
    "replicas_df[['DUR' + method for method in methods]].mean()"
   ]
  },
  {
   "cell_type": "code",
   "execution_count": 100,
   "metadata": {},
   "outputs": [
    {
     "name": "stdout",
     "output_type": "stream",
     "text": [
      "monday 250\n",
      "tuesday 250\n",
      "wednesday 250\n",
      "thursday 250\n",
      "friday 500\n",
      "saturday 500\n",
      "sunday 500\n"
     ]
    }
   ],
   "source": [
    "import pickle\n",
    "days = {'monday':250,\n",
    "        'tuesday':250,\n",
    "        'wednesday':250,\n",
    "        'thursday': 250,\n",
    "        'friday': 500,\n",
    "        'saturday':500,\n",
    "        'sunday': 500}\n",
    "\n",
    "for day, budget in days.items():\n",
    "    print(day, budget)\n",
    "    with open('weights/{}_3.0.pickle'.format(day), 'rb') as file:\n",
    "        model = pickle.load(file)\n",
    "    model.total_budget = budget\n",
    "    with open('weights/{}_3.0.pickle'.format(day), 'wb') as file:\n",
    "        pickle.dump(model, file)"
   ]
  },
  {
   "cell_type": "code",
   "execution_count": 98,
   "metadata": {},
   "outputs": [],
   "source": [
    "model.total_budget = 100"
   ]
  },
  {
   "cell_type": "code",
   "execution_count": null,
   "metadata": {},
   "outputs": [],
   "source": []
  }
 ],
 "metadata": {
  "kernelspec": {
   "display_name": "Python 3",
   "language": "python",
   "name": "python3"
  },
  "language_info": {
   "codemirror_mode": {
    "name": "ipython",
    "version": 3
   },
   "file_extension": ".py",
   "mimetype": "text/x-python",
   "name": "python",
   "nbconvert_exporter": "python",
   "pygments_lexer": "ipython3",
   "version": "3.7.7"
  }
 },
 "nbformat": 4,
 "nbformat_minor": 4
}
