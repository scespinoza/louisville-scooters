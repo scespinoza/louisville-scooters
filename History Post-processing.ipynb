{
 "cells": [
  {
   "cell_type": "code",
   "execution_count": 107,
   "metadata": {},
   "outputs": [
    {
     "name": "stdout",
     "output_type": "stream",
     "text": [
      "transfer\n",
      "speeds\n",
      "graphs\n",
      "Creating walk graph...\n",
      "True\n",
      "Creating bike graph...\n",
      "True\n"
     ]
    }
   ],
   "source": [
    "import json\n",
    "import geopandas as gpd\n",
    "from multimodal_network import *\n",
    "\n",
    "study_area_filename = 'shapes/study_area/study_area_buffer.shp'\n",
    "study_area = gpd.read_file(study_area_filename).to_crs('EPSG:4326')\n",
    "study_area_polygon = study_area.iloc[0]['geometry']\n",
    "network = MultiModalNetwork.from_polygon(study_area_polygon, speeds={'walk': 1.4, 'bike':2.16}, directed={'walk': True, 'bike': True})\n",
    "#network.save_shortest_paths_all_layers()"
   ]
  },
  {
   "cell_type": "code",
   "execution_count": 31,
   "metadata": {},
   "outputs": [
    {
     "name": "stdout",
     "output_type": "stream",
     "text": [
      "Converting: visualization/data/stkde_nhpp_0.json\n"
     ]
    },
    {
     "data": {
      "application/vnd.jupyter.widget-view+json": {
       "model_id": "7de97231abfd4d48874b286a358d4530",
       "version_major": 2,
       "version_minor": 0
      },
      "text/plain": [
       "HBox(children=(FloatProgress(value=0.0, max=5756.0), HTML(value='')))"
      ]
     },
     "metadata": {},
     "output_type": "display_data"
    },
    {
     "name": "stdout",
     "output_type": "stream",
     "text": [
      "\n",
      "Converting: visualization/data/stkde_nhpp_0_HRP_2.0.json\n"
     ]
    },
    {
     "data": {
      "application/vnd.jupyter.widget-view+json": {
       "model_id": "2c804bcfeebe46389e0e300c109055a7",
       "version_major": 2,
       "version_minor": 0
      },
      "text/plain": [
       "HBox(children=(FloatProgress(value=0.0, max=5756.0), HTML(value='')))"
      ]
     },
     "metadata": {},
     "output_type": "display_data"
    },
    {
     "name": "stdout",
     "output_type": "stream",
     "text": [
      "\n",
      "Converting: visualization/data/stkde_nhpp_0_HRP_3.0.json\n"
     ]
    },
    {
     "data": {
      "application/vnd.jupyter.widget-view+json": {
       "model_id": "b786d62340c347e7ad2961244efcdb6c",
       "version_major": 2,
       "version_minor": 0
      },
      "text/plain": [
       "HBox(children=(FloatProgress(value=0.0, max=5756.0), HTML(value='')))"
      ]
     },
     "metadata": {},
     "output_type": "display_data"
    },
    {
     "name": "stdout",
     "output_type": "stream",
     "text": [
      "\n",
      "Converting: visualization/data/stkde_nhpp_1.json\n"
     ]
    },
    {
     "data": {
      "application/vnd.jupyter.widget-view+json": {
       "model_id": "aff5760859bd47b48c6b1b2015433e86",
       "version_major": 2,
       "version_minor": 0
      },
      "text/plain": [
       "HBox(children=(FloatProgress(value=0.0, max=5742.0), HTML(value='')))"
      ]
     },
     "metadata": {},
     "output_type": "display_data"
    },
    {
     "name": "stdout",
     "output_type": "stream",
     "text": [
      "\n",
      "Converting: visualization/data/stkde_nhpp_1_HRP_2.0.json\n"
     ]
    },
    {
     "data": {
      "application/vnd.jupyter.widget-view+json": {
       "model_id": "ff16e36ed2fe4306936705d91362199d",
       "version_major": 2,
       "version_minor": 0
      },
      "text/plain": [
       "HBox(children=(FloatProgress(value=0.0, max=5742.0), HTML(value='')))"
      ]
     },
     "metadata": {},
     "output_type": "display_data"
    },
    {
     "name": "stdout",
     "output_type": "stream",
     "text": [
      "\n",
      "Converting: visualization/data/stkde_nhpp_1_HRP_3.0.json\n"
     ]
    },
    {
     "data": {
      "application/vnd.jupyter.widget-view+json": {
       "model_id": "d8f90253ddd34b18bfc7ce55d28301a1",
       "version_major": 2,
       "version_minor": 0
      },
      "text/plain": [
       "HBox(children=(FloatProgress(value=0.0, max=5742.0), HTML(value='')))"
      ]
     },
     "metadata": {},
     "output_type": "display_data"
    },
    {
     "name": "stdout",
     "output_type": "stream",
     "text": [
      "\n"
     ]
    }
   ],
   "source": [
    "from tqdm.notebook import tqdm\n",
    "def write_paths(replica_filename):\n",
    "    print('Converting: ' + replica_filename)\n",
    "    with open(replica_filename) as file:\n",
    "        replica = json.load(file)\n",
    "    for i, trip in zip(tqdm(range(len(replica['trips']))), replica['trips']):\n",
    "        #print(trip['scooter']['battery_level_dropoff'])\n",
    "        if trip['ride_duration'] == np.inf:\n",
    "            replica['trips'].remove(trip)\n",
    "        else:\n",
    "            if trip['pickup_time'] != None:\n",
    "                #print('Walk from {} to {}'.format(trip['origin'], trip['pickup_node']))\n",
    "                try:\n",
    "                    path = network.shortest_path_edges(trip['origin'], trip['pickup_node'], layer='walk')\n",
    "                    trip['walk'] = path\n",
    "                except:\n",
    "                    replica['trips'].remove(trip)\n",
    "\n",
    "                #print('Ride from {} to {}'.format(trip['pickup_node'], trip['destination']))\n",
    "                try:\n",
    "                    path = network.shortest_path_edges(trip['pickup_node'], trip['destination'], layer='bike')\n",
    "                    trip['ride'] = path\n",
    "                except:\n",
    "                    try:\n",
    "                        replica['trips'].remove(trip)\n",
    "                    except:\n",
    "                        pass\n",
    "    with open(replica_filename, 'w') as file:\n",
    "        json.dump(replica, file)\n",
    "\n",
    "for i in range(2):\n",
    "    write_paths('visualization/data/stkde_nhpp_{}.json'.format(i))\n",
    "    for m in range(2, 4):\n",
    "        write_paths('visualization/data/stkde_nhpp_{}_HRP_{}.0.json'.format(i, m))"
   ]
  },
  {
   "cell_type": "code",
   "execution_count": 145,
   "metadata": {},
   "outputs": [],
   "source": [
    "import os\n",
    "import json\n",
    "import pandas as pd\n",
    "import matplotlib.pyplot as plt\n",
    "import numpy as np\n",
    "plt.style.use('ggplot')\n",
    "\n",
    "\n",
    "def load_replicas_to_df(results_dir = 'visualization/data', replicas=20, methods=['_HRP_3.0', '', '_HRP_2.0'], days=1):\n",
    "    replicas_stats = []\n",
    "    for i in range(replicas):\n",
    "        replica_dict = {'replica': i}\n",
    "        for method in methods:\n",
    "            replica_dir = results_dir + '/stkde_nhpp_{}{}.json'.format(i, method)\n",
    "            with open(replica_dir, 'r') as file:\n",
    "                replica = json.load(file)\n",
    "\n",
    "            satisfied_requests = sum([not trip['pickup_time'] == None for trip in replica['trips'] if trip['arrival_time']<= 24 * 3600 * days])\n",
    "            total_requests = len([trip for trip in replica['trips'] if trip['arrival_time'] <= 24 * 3600 * days])\n",
    "            expenses = np.array([float(trip['pricing']) for trip in replica['trips'] if trip['pricing']!=None])\n",
    "            total_expense = expenses.sum()\n",
    "            n_pricing = len(expenses)\n",
    "            replica_dict['satisfied_requests' + method] = satisfied_requests\n",
    "            replica_dict['total_requests' + method] = total_requests\n",
    "            replica_dict['expense' + method] = total_expense\n",
    "            replica_dict['n_pricing' + method] = n_pricing\n",
    "        replicas_stats.append(replica_dict)\n",
    "    return pd.DataFrame(replicas_stats)\n",
    "#'_HRP_1.0', '_HRP_2.0', '_HRP_3.0'\n",
    "methods = ['', '_HRP_1.0', '_HRP_2.0', '_HRP_3.0', '_random_3.0']\n",
    "replicas_df = load_replicas_to_df(replicas=2, days=7, methods=methods)\n",
    "for method in methods:\n",
    "    replicas_df['service_level' + method] = replicas_df['satisfied_requests' + method] / replicas_df['total_requests' + method] "
   ]
  },
  {
   "cell_type": "code",
   "execution_count": 146,
   "metadata": {},
   "outputs": [
    {
     "data": {
      "text/plain": [
       "service_level               0.811102\n",
       "service_level_HRP_1.0       0.825276\n",
       "service_level_HRP_2.0       0.835538\n",
       "service_level_HRP_3.0       0.836234\n",
       "service_level_random_3.0    0.840759\n",
       "dtype: float64"
      ]
     },
     "execution_count": 146,
     "metadata": {},
     "output_type": "execute_result"
    }
   ],
   "source": [
    "replicas_df[['service_level' + method for method in methods]].mean()"
   ]
  },
  {
   "cell_type": "code",
   "execution_count": 147,
   "metadata": {},
   "outputs": [
    {
     "data": {
      "text/plain": [
       "service_level               0.005087\n",
       "service_level_HRP_1.0       0.002282\n",
       "service_level_HRP_2.0       0.001808\n",
       "service_level_HRP_3.0       0.001563\n",
       "service_level_random_3.0    0.004277\n",
       "dtype: float64"
      ]
     },
     "execution_count": 147,
     "metadata": {},
     "output_type": "execute_result"
    }
   ],
   "source": [
    "replicas_df[['service_level' + method for method in methods]].std()"
   ]
  },
  {
   "cell_type": "code",
   "execution_count": 148,
   "metadata": {},
   "outputs": [],
   "source": [
    "for method in methods:\n",
    "    replicas_df['DUR' + method] = ((replicas_df['total_requests'] - replicas_df['satisfied_requests']) - (replicas_df['total_requests'] - replicas_df['satisfied_requests' + method]))\\\n",
    "                                / (replicas_df['total_requests'] - replicas_df['satisfied_requests'])"
   ]
  },
  {
   "cell_type": "code",
   "execution_count": 149,
   "metadata": {},
   "outputs": [
    {
     "data": {
      "text/plain": [
       "DUR               0.000000\n",
       "DUR_HRP_1.0       0.074862\n",
       "DUR_HRP_2.0       0.129175\n",
       "DUR_HRP_3.0       0.132841\n",
       "DUR_random_3.0    0.156997\n",
       "dtype: float64"
      ]
     },
     "execution_count": 149,
     "metadata": {},
     "output_type": "execute_result"
    }
   ],
   "source": [
    "replicas_df[['DUR' + method for method in methods]].mean()"
   ]
  },
  {
   "cell_type": "code",
   "execution_count": 150,
   "metadata": {},
   "outputs": [
    {
     "data": {
      "text/html": [
       "<div>\n",
       "<style scoped>\n",
       "    .dataframe tbody tr th:only-of-type {\n",
       "        vertical-align: middle;\n",
       "    }\n",
       "\n",
       "    .dataframe tbody tr th {\n",
       "        vertical-align: top;\n",
       "    }\n",
       "\n",
       "    .dataframe thead th {\n",
       "        text-align: right;\n",
       "    }\n",
       "</style>\n",
       "<table border=\"1\" class=\"dataframe\">\n",
       "  <thead>\n",
       "    <tr style=\"text-align: right;\">\n",
       "      <th></th>\n",
       "      <th>replica</th>\n",
       "      <th>satisfied_requests</th>\n",
       "      <th>total_requests</th>\n",
       "      <th>expense</th>\n",
       "      <th>n_pricing</th>\n",
       "      <th>satisfied_requests_HRP_1.0</th>\n",
       "      <th>total_requests_HRP_1.0</th>\n",
       "      <th>expense_HRP_1.0</th>\n",
       "      <th>n_pricing_HRP_1.0</th>\n",
       "      <th>satisfied_requests_HRP_2.0</th>\n",
       "      <th>...</th>\n",
       "      <th>service_level</th>\n",
       "      <th>service_level_HRP_1.0</th>\n",
       "      <th>service_level_HRP_2.0</th>\n",
       "      <th>service_level_HRP_3.0</th>\n",
       "      <th>service_level_random_3.0</th>\n",
       "      <th>DUR</th>\n",
       "      <th>DUR_HRP_1.0</th>\n",
       "      <th>DUR_HRP_2.0</th>\n",
       "      <th>DUR_HRP_3.0</th>\n",
       "      <th>DUR_random_3.0</th>\n",
       "    </tr>\n",
       "  </thead>\n",
       "  <tbody>\n",
       "    <tr>\n",
       "      <th>0</th>\n",
       "      <td>0</td>\n",
       "      <td>4648</td>\n",
       "      <td>5756</td>\n",
       "      <td>0.0</td>\n",
       "      <td>0</td>\n",
       "      <td>4741</td>\n",
       "      <td>5756</td>\n",
       "      <td>58.066392</td>\n",
       "      <td>78</td>\n",
       "      <td>4802</td>\n",
       "      <td>...</td>\n",
       "      <td>0.807505</td>\n",
       "      <td>0.823662</td>\n",
       "      <td>0.834260</td>\n",
       "      <td>0.835129</td>\n",
       "      <td>0.837735</td>\n",
       "      <td>0.0</td>\n",
       "      <td>0.083935</td>\n",
       "      <td>0.138989</td>\n",
       "      <td>0.143502</td>\n",
       "      <td>0.157040</td>\n",
       "    </tr>\n",
       "    <tr>\n",
       "      <th>1</th>\n",
       "      <td>1</td>\n",
       "      <td>4678</td>\n",
       "      <td>5742</td>\n",
       "      <td>0.0</td>\n",
       "      <td>0</td>\n",
       "      <td>4748</td>\n",
       "      <td>5742</td>\n",
       "      <td>48.206504</td>\n",
       "      <td>69</td>\n",
       "      <td>4805</td>\n",
       "      <td>...</td>\n",
       "      <td>0.814699</td>\n",
       "      <td>0.826890</td>\n",
       "      <td>0.836816</td>\n",
       "      <td>0.837339</td>\n",
       "      <td>0.843783</td>\n",
       "      <td>0.0</td>\n",
       "      <td>0.065789</td>\n",
       "      <td>0.119361</td>\n",
       "      <td>0.122180</td>\n",
       "      <td>0.156955</td>\n",
       "    </tr>\n",
       "  </tbody>\n",
       "</table>\n",
       "<p>2 rows × 31 columns</p>\n",
       "</div>"
      ],
      "text/plain": [
       "   replica  satisfied_requests  total_requests  expense  n_pricing  \\\n",
       "0        0                4648            5756      0.0          0   \n",
       "1        1                4678            5742      0.0          0   \n",
       "\n",
       "   satisfied_requests_HRP_1.0  total_requests_HRP_1.0  expense_HRP_1.0  \\\n",
       "0                        4741                    5756        58.066392   \n",
       "1                        4748                    5742        48.206504   \n",
       "\n",
       "   n_pricing_HRP_1.0  satisfied_requests_HRP_2.0  ...  service_level  \\\n",
       "0                 78                        4802  ...       0.807505   \n",
       "1                 69                        4805  ...       0.814699   \n",
       "\n",
       "   service_level_HRP_1.0  service_level_HRP_2.0  service_level_HRP_3.0  \\\n",
       "0               0.823662               0.834260               0.835129   \n",
       "1               0.826890               0.836816               0.837339   \n",
       "\n",
       "   service_level_random_3.0  DUR  DUR_HRP_1.0  DUR_HRP_2.0  DUR_HRP_3.0  \\\n",
       "0                  0.837735  0.0     0.083935     0.138989     0.143502   \n",
       "1                  0.843783  0.0     0.065789     0.119361     0.122180   \n",
       "\n",
       "   DUR_random_3.0  \n",
       "0        0.157040  \n",
       "1        0.156955  \n",
       "\n",
       "[2 rows x 31 columns]"
      ]
     },
     "execution_count": 150,
     "metadata": {},
     "output_type": "execute_result"
    }
   ],
   "source": [
    "replicas_df"
   ]
  },
  {
   "cell_type": "code",
   "execution_count": 151,
   "metadata": {},
   "outputs": [
    {
     "data": {
      "text/plain": [
       "0    154\n",
       "1    127\n",
       "dtype: int64"
      ]
     },
     "execution_count": 151,
     "metadata": {},
     "output_type": "execute_result"
    }
   ],
   "source": [
    "replicas_df['satisfied_requests_HRP_2.0'] - replicas_df['satisfied_requests']"
   ]
  },
  {
   "cell_type": "code",
   "execution_count": 158,
   "metadata": {},
   "outputs": [
    {
     "data": {
      "text/plain": [
       "0.0035523175322003985"
      ]
     },
     "execution_count": 158,
     "metadata": {},
     "output_type": "execute_result"
    }
   ],
   "source": [
    "0.6 * 0.95**(100)"
   ]
  },
  {
   "cell_type": "code",
   "execution_count": 171,
   "metadata": {},
   "outputs": [
    {
     "data": {
      "text/plain": [
       "[<matplotlib.lines.Line2D at 0x2bfdbae5788>]"
      ]
     },
     "execution_count": 171,
     "metadata": {},
     "output_type": "execute_result"
    },
    {
     "data": {
      "image/png": "[encoded data removed]",
      "text/plain": [
       "<Figure size 432x288 with 1 Axes>"
      ]
     },
     "metadata": {},
     "output_type": "display_data"
    }
   ],
   "source": [
    "x = np.arange(0, 100)\n",
    "mu = 0.6 *0.99**(x)\n",
    "plt.plot(x, mu)"
   ]
  },
  {
   "cell_type": "code",
   "execution_count": null,
   "metadata": {},
   "outputs": [],
   "source": []
  }
 ],
 "metadata": {
  "kernelspec": {
   "display_name": "Python 3",
   "language": "python",
   "name": "python3"
  },
  "language_info": {
   "codemirror_mode": {
    "name": "ipython",
    "version": 3
   },
   "file_extension": ".py",
   "mimetype": "text/x-python",
   "name": "python",
   "nbconvert_exporter": "python",
   "pygments_lexer": "ipython3",
   "version": "3.7.7"
  }
 },
 "nbformat": 4,
 "nbformat_minor": 4
}
